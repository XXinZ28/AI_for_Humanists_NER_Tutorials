{
  "nbformat": 4,
  "nbformat_minor": 0,
  "metadata": {
    "colab": {
      "provenance": [],
      "toc_visible": true
    },
    "kernelspec": {
      "name": "python3",
      "display_name": "Python 3"
    },
    "language_info": {
      "name": "python"
    }
  },
  "cells": [
    {
      "cell_type": "markdown",
      "source": [
        "# What is NER?"
      ],
      "metadata": {
        "id": "rSgknZ16kA2H"
      }
    },
    {
      "cell_type": "markdown",
      "source": [
        "[Named Entity Recognition](https://en.wikipedia.org/wiki/Named-entity_recognition) (NER) is a field of Natural Language Processing (NLP) to preprocess the texts and information."
      ],
      "metadata": {
        "id": "fWIMbwNx9Wv1"
      }
    },
    {
      "cell_type": "markdown",
      "source": [
        "## Introduction to spaCy and NER Tags\n",
        "\n",
        "[spaCy](https://spacy.io/usage/spacy-101) is a free, open-source library for advanced NLP in Python. It helps you process and understand large volumes of text. spaCy has many [linguisitc features](https://spacy.io/usage/linguistic-features#named-entities) to process raw text, including POS tagging, tokenization, parsing, etc. NER is one of them.\n",
        "\n",
        "spaCy comes with an extremely fast statistical entity recognition system that assigns labels to contiguous spans of tokens.\n",
        "\n",
        "\n",
        "---\n",
        "spaCy uses tags to categorize words and phrases into different types. Tags are accessible through the .label_ property of an entity. Here's the full lists for reference.\n",
        "\n",
        "Tags are accessible through the `.label_` property of an entity.\n",
        "<table>\n",
        "<tr><th>TYPE</th><th>DESCRIPTION</th><th>EXAMPLE</th></tr>\n",
        "<tr><td>`PERSON`</td><td>People, including fictional.</td><td>*Fred Flintstone*</td></tr>\n",
        "<tr><td>`NORP`</td><td>Nationalities or religious or political groups.</td><td>*The Republican Party*</td></tr>\n",
        "<tr><td>`FAC`</td><td>Buildings, airports, highways, bridges, etc.</td><td>*Logan International Airport, The Golden Gate*</td></tr>\n",
        "<tr><td>`ORG`</td><td>Companies, agencies, institutions, etc.</td><td>*Microsoft, FBI, MIT*</td></tr>\n",
        "<tr><td>`GPE`</td><td>Countries, cities, states.</td><td>*France, UAR, Chicago, Idaho*</td></tr>\n",
        "<tr><td>`LOC`</td><td>Non-GPE locations, mountain ranges, bodies of water.</td><td>*Europe, Nile River, Midwest*</td></tr>\n",
        "<tr><td>`PRODUCT`</td><td>Objects, vehicles, foods, etc. (Not services.)</td><td>*Formula 1*</td></tr>\n",
        "<tr><td>`EVENT`</td><td>Named hurricanes, battles, wars, sports events, etc.</td><td>*Olympic Games*</td></tr>\n",
        "<tr><td>`WORK_OF_ART`</td><td>Titles of books, songs, etc.</td><td>*The Mona Lisa*</td></tr>\n",
        "<tr><td>`LAW`</td><td>Named documents made into laws.</td><td>*Roe v. Wade*</td></tr>\n",
        "<tr><td>`LANGUAGE`</td><td>Any named language.</td><td>*English*</td></tr>\n",
        "<tr><td>`DATE`</td><td>Absolute or relative dates or periods.</td><td>*20 July 1969*</td></tr>\n",
        "<tr><td>`TIME`</td><td>Times smaller than a day.</td><td>*Four hours*</td></tr>\n",
        "<tr><td>`PERCENT`</td><td>Percentage, including \"%\".</td><td>*Eighty percent*</td></tr>\n",
        "<tr><td>`MONEY`</td><td>Monetary values, including unit.</td><td>*Twenty Cents*</td></tr>\n",
        "<tr><td>`QUANTITY`</td><td>Measurements, as of weight or distance.</td><td>*Several kilometers, 55kg*</td></tr>\n",
        "<tr><td>`ORDINAL`</td><td>\"first\", \"second\", etc.</td><td>*9th, Ninth*</td></tr>\n",
        "<tr><td>`CARDINAL`</td><td>Numerals that do not fall under another type.</td><td>*2, Two, Fifty-two*</td></tr>\n",
        "</table>\n",
        "\n",
        "\n",
        "If you are not sure what does a specific type of lable means, you can run the code below to check its meaning."
      ],
      "metadata": {
        "id": "B4mMLvBECJsr"
      }
    },
    {
      "cell_type": "code",
      "source": [
        "import spacy # imports the spacy module\n",
        "\n",
        "label = \"GPE\" # assigns the string 'GPE' to the variable label\n",
        "spacy.explain(label) # calls the function spacy.explain() with the argument label"
      ],
      "metadata": {
        "id": "3pX2k7fSCvLU",
        "colab": {
          "base_uri": "https://localhost:8080/",
          "height": 35
        },
        "outputId": "b5422ef8-8171-44b7-b66c-84c1c2c6fe9b"
      },
      "execution_count": null,
      "outputs": [
        {
          "output_type": "execute_result",
          "data": {
            "text/plain": [
              "'Countries, cities, states'"
            ],
            "application/vnd.google.colaboratory.intrinsic+json": {
              "type": "string"
            }
          },
          "metadata": {},
          "execution_count": 1
        }
      ]
    },
    {
      "cell_type": "markdown",
      "source": [
        "\n",
        "\n",
        "---\n",
        "\n"
      ],
      "metadata": {
        "id": "DDG9_EhmWjZa"
      }
    },
    {
      "cell_type": "markdown",
      "source": [
        "## How does it work?\n",
        "\n",
        "NER works by locating and identifying the named entities present in unstructured text into the standard categories such as person names, locations, organizations, time expressions, quantities, monetary values, percentage, codes etc.\n",
        "\n",
        "\n",
        "Intuitevly, you may think of NER as a way for computers to “read” a text and pick out important names and terms, similar to how you might highlight key points when you’re reading a document. You may magine this process as you’re reading a newspaper article. As you read, you notice certain words and phrases that stand out because they contains more information, such as names of people, places, organizations, or specific dates. For example, if you read, “Jane Doe from Google visited Paris in June,” you recognize that “Jane Doe” is a person, “Google” is a company, “Paris” is a city, and “June” is a month.\n",
        "\n",
        "NER is like teaching a computer to do the same thing. You give it a piece of text, and it highlights these important names and terms. As computer doesn't understand human language, we need to conduct NLP pipelines to make the text understandable for it. NER is just one of the tasks in doing this in the big family of NLP pipeline.\n",
        "\n"
      ],
      "metadata": {
        "id": "VTmd3FjWvTwe"
      }
    },
    {
      "cell_type": "markdown",
      "source": [
        "At its core, NLP pipeline for NER tasks is just a two-step process, which are:\n",
        "\n",
        "1. Detect the entities from texts.\n",
        "2. Classify them into different categories as needed."
      ],
      "metadata": {
        "id": "zV84O-yzvbau"
      }
    },
    {
      "cell_type": "markdown",
      "source": [
        "# Setup"
      ],
      "metadata": {
        "id": "y6671yvMwKd_"
      }
    },
    {
      "cell_type": "markdown",
      "source": [
        "This tutorial covers two models from spaCy: one is `'en_core_web_sm'` and the other one is `'spaCy-lmm NER'`.\n",
        "\n",
        "\n",
        "*   `'en_core_web_sm'` is a simple to used spaCy pretrained model.\n",
        "*   `'spaCy-lmm NER'` is a new model integrating Large Language Models (LLMs) in spaCy, which is meant to be used for a more complex task."
      ],
      "metadata": {
        "id": "24ejhjQsv7qf"
      }
    },
    {
      "cell_type": "code",
      "source": [
        "# Install packages that we need first\n",
        "%%capture\n",
        "\n",
        "! pip install spacy\n",
        "! python -m pip install spacy-llm\n",
        "! pip install pandas"
      ],
      "metadata": {
        "id": "wzDC2JftwJHf"
      },
      "execution_count": null,
      "outputs": []
    },
    {
      "cell_type": "markdown",
      "source": [
        "# Default method: spaCy model"
      ],
      "metadata": {
        "id": "IPddqvuCwL1g"
      }
    },
    {
      "cell_type": "markdown",
      "source": [
        "Spacy has the `‘ner’` pipeline component that identifies token spans fitting a predetermined set of named entities. These are available as the `‘ents’` property of a Doc object.\n",
        "\n",
        "In this section, we use the pretrained spaCy NER model, **'[en_core_web_sm](https://spacy.io/models/en/#en_core_web_sm)'**.\n",
        "\n",
        "`'en_core_web_sm'` is a small English pipeline trained on written web text (blogs, news, comments), that includes vocabulary, syntax and entities."
      ],
      "metadata": {
        "id": "csFLb6e0wlge"
      }
    },
    {
      "cell_type": "code",
      "source": [
        "# import the displaCy library\n",
        "import spacy\n",
        "from spacy import displacy\n",
        "\n",
        "# load the model from spaCy\n",
        "nlp = spacy.load(\"en_core_web_sm\")"
      ],
      "metadata": {
        "id": "VyWhqnuDwjgN"
      },
      "execution_count": null,
      "outputs": []
    },
    {
      "cell_type": "markdown",
      "source": [
        "You could input any texts to perform the entity recognition task. In this example, we use the sentence \"Joe Biden travelled to the White House\" for demonestration. You may replace it with any texts you want."
      ],
      "metadata": {
        "id": "ZZ2MrHpQwphJ"
      }
    },
    {
      "cell_type": "markdown",
      "source": [
        "## Display Entities"
      ],
      "metadata": {
        "id": "FZsk0fzrwrpX"
      }
    },
    {
      "cell_type": "code",
      "source": [
        "# Visualize the entity recognition\n",
        "text = \"President Joe Biden announced to the nation on Sunday that he is standing down from running in the 2024 presidential race. The news comes as several top Democratic voices called for him to step aside from his bid for reelection after a shaky debate performance against former President Donald Trump in June.\"\n",
        "\n",
        "doc = nlp(text)\n",
        "\n",
        "for ent in doc.ents:\n",
        "    print(ent.text, ent.start_char, ent.end_char, ent.label_)\n",
        "\n"
      ],
      "metadata": {
        "id": "a0J0CEgFwuYh"
      },
      "execution_count": null,
      "outputs": []
    },
    {
      "cell_type": "markdown",
      "source": [
        "The above output displays the names of the entities, including their start and end positions in the text, and the corresponding predicted labels. You could make a dataframe to show the labels and the corresponding texts clearly."
      ],
      "metadata": {
        "id": "vViaLpMXwwMt"
      }
    },
    {
      "cell_type": "code",
      "source": [
        "import pandas as pd\n",
        "\n",
        "entities = [(ent.text, ent.label_, ent.lemma_) for ent in doc.ents]\n",
        "df = pd.DataFrame(entities, columns=['text', 'type', 'lemma'])\n",
        "print(df)"
      ],
      "metadata": {
        "id": "8JAzcT3MwxYB"
      },
      "execution_count": null,
      "outputs": []
    },
    {
      "cell_type": "markdown",
      "source": [
        "If you are performing the NER task for a long paragraph, you may want to visualize the lables line by line. Thus, instead of running the above code, you could try this one:"
      ],
      "metadata": {
        "id": "kL3bRk9Ew3uE"
      }
    },
    {
      "cell_type": "code",
      "source": [
        "# Visualize the name entities line by line.\n",
        "text = u'Over the last quarter Apple sold nearly 20 thousand iPods for a profit of $6 million.'u'By contrast, Sony sold only 7. 'u'Apple’s Services set a record for the quarter and saw a jump in revenue YoY of 14 percent, while Mac sales increased about 4 percent.'\n",
        "\n",
        "doc = nlp(text)\n",
        "\n",
        "for sent in doc.sents:\n",
        "  displacy.render(nlp(sent.text), style=\"ent\", jupyter=True)"
      ],
      "metadata": {
        "id": "BJyWtSgIw495"
      },
      "execution_count": null,
      "outputs": []
    },
    {
      "cell_type": "markdown",
      "source": [
        "## Entity Vsualization"
      ],
      "metadata": {
        "id": "lrJlAnUmw0XU"
      }
    },
    {
      "cell_type": "code",
      "source": [
        "displacy.render(doc, style=\"ent\", jupyter=True)"
      ],
      "metadata": {
        "id": "-tiFef_pw2B6"
      },
      "execution_count": null,
      "outputs": []
    },
    {
      "cell_type": "markdown",
      "source": [
        "# LLMs method: spaCy-llm NER"
      ],
      "metadata": {
        "id": "dJq1Y1Ms3oic"
      }
    },
    {
      "cell_type": "markdown",
      "source": [
        "If you are dealing with more complex cases, you could use an LLMs based model to detect the entities.\n",
        "\n",
        "MIT has developed [spacy-llm package](https://github.com/explosion/spacy-llm) to integrate Large Language Models (LLMs) into spaCy, in order to feature natural language's understanding capabilities.\n",
        "\n",
        "Here is a brief summary of steps that we will do in the following code:\n",
        "\n",
        "1. Setup API key\n",
        "2. Create Configuration File\n",
        "3. Create Example Data\n",
        "4. Create Pipeline Script\n",
        "5. Run Pipeline Script\n"
      ],
      "metadata": {
        "id": "h_lv16xjlPwm"
      }
    },
    {
      "cell_type": "code",
      "source": [
        "!pip install openai\n",
        "!python -m pip install \"spacy-llm[transformers]\""
      ],
      "metadata": {
        "colab": {
          "base_uri": "https://localhost:8080/"
        },
        "collapsed": true,
        "id": "8zyB0i1Nlaz0",
        "outputId": "bf381e60-3ef1-42e8-b28e-4957fe93c86f"
      },
      "execution_count": null,
      "outputs": [
        {
          "output_type": "stream",
          "name": "stdout",
          "text": [
            "Collecting openai\n",
            "  Downloading openai-1.40.6-py3-none-any.whl.metadata (22 kB)\n",
            "Requirement already satisfied: anyio<5,>=3.5.0 in /usr/local/lib/python3.10/dist-packages (from openai) (3.7.1)\n",
            "Requirement already satisfied: distro<2,>=1.7.0 in /usr/lib/python3/dist-packages (from openai) (1.7.0)\n",
            "Collecting httpx<1,>=0.23.0 (from openai)\n",
            "  Downloading httpx-0.27.0-py3-none-any.whl.metadata (7.2 kB)\n",
            "Collecting jiter<1,>=0.4.0 (from openai)\n",
            "  Downloading jiter-0.5.0-cp310-cp310-manylinux_2_17_x86_64.manylinux2014_x86_64.whl.metadata (3.6 kB)\n",
            "Requirement already satisfied: pydantic<3,>=1.9.0 in /usr/local/lib/python3.10/dist-packages (from openai) (2.8.2)\n",
            "Requirement already satisfied: sniffio in /usr/local/lib/python3.10/dist-packages (from openai) (1.3.1)\n",
            "Requirement already satisfied: tqdm>4 in /usr/local/lib/python3.10/dist-packages (from openai) (4.66.5)\n",
            "Requirement already satisfied: typing-extensions<5,>=4.11 in /usr/local/lib/python3.10/dist-packages (from openai) (4.12.2)\n",
            "Requirement already satisfied: idna>=2.8 in /usr/local/lib/python3.10/dist-packages (from anyio<5,>=3.5.0->openai) (3.7)\n",
            "Requirement already satisfied: exceptiongroup in /usr/local/lib/python3.10/dist-packages (from anyio<5,>=3.5.0->openai) (1.2.2)\n",
            "Requirement already satisfied: certifi in /usr/local/lib/python3.10/dist-packages (from httpx<1,>=0.23.0->openai) (2024.7.4)\n",
            "Collecting httpcore==1.* (from httpx<1,>=0.23.0->openai)\n",
            "  Downloading httpcore-1.0.5-py3-none-any.whl.metadata (20 kB)\n",
            "Collecting h11<0.15,>=0.13 (from httpcore==1.*->httpx<1,>=0.23.0->openai)\n",
            "  Downloading h11-0.14.0-py3-none-any.whl.metadata (8.2 kB)\n",
            "Requirement already satisfied: annotated-types>=0.4.0 in /usr/local/lib/python3.10/dist-packages (from pydantic<3,>=1.9.0->openai) (0.7.0)\n",
            "Requirement already satisfied: pydantic-core==2.20.1 in /usr/local/lib/python3.10/dist-packages (from pydantic<3,>=1.9.0->openai) (2.20.1)\n",
            "Downloading openai-1.40.6-py3-none-any.whl (361 kB)\n",
            "\u001b[2K   \u001b[90m━━━━━━━━━━━━━━━━━━━━━━━━━━━━━━━━━━━━━━━━\u001b[0m \u001b[32m361.3/361.3 kB\u001b[0m \u001b[31m6.9 MB/s\u001b[0m eta \u001b[36m0:00:00\u001b[0m\n",
            "\u001b[?25hDownloading httpx-0.27.0-py3-none-any.whl (75 kB)\n",
            "\u001b[2K   \u001b[90m━━━━━━━━━━━━━━━━━━━━━━━━━━━━━━━━━━━━━━━━\u001b[0m \u001b[32m75.6/75.6 kB\u001b[0m \u001b[31m4.2 MB/s\u001b[0m eta \u001b[36m0:00:00\u001b[0m\n",
            "\u001b[?25hDownloading httpcore-1.0.5-py3-none-any.whl (77 kB)\n",
            "\u001b[2K   \u001b[90m━━━━━━━━━━━━━━━━━━━━━━━━━━━━━━━━━━━━━━━━\u001b[0m \u001b[32m77.9/77.9 kB\u001b[0m \u001b[31m3.9 MB/s\u001b[0m eta \u001b[36m0:00:00\u001b[0m\n",
            "\u001b[?25hDownloading jiter-0.5.0-cp310-cp310-manylinux_2_17_x86_64.manylinux2014_x86_64.whl (318 kB)\n",
            "\u001b[2K   \u001b[90m━━━━━━━━━━━━━━━━━━━━━━━━━━━━━━━━━━━━━━━━\u001b[0m \u001b[32m318.9/318.9 kB\u001b[0m \u001b[31m15.1 MB/s\u001b[0m eta \u001b[36m0:00:00\u001b[0m\n",
            "\u001b[?25hDownloading h11-0.14.0-py3-none-any.whl (58 kB)\n",
            "\u001b[2K   \u001b[90m━━━━━━━━━━━━━━━━━━━━━━━━━━━━━━━━━━━━━━━━\u001b[0m \u001b[32m58.3/58.3 kB\u001b[0m \u001b[31m3.3 MB/s\u001b[0m eta \u001b[36m0:00:00\u001b[0m\n",
            "\u001b[?25hInstalling collected packages: jiter, h11, httpcore, httpx, openai\n",
            "Successfully installed h11-0.14.0 httpcore-1.0.5 httpx-0.27.0 jiter-0.5.0 openai-1.40.6\n",
            "Collecting spacy-llm[transformers]\n",
            "  Downloading spacy_llm-0.7.2-py2.py3-none-any.whl.metadata (10 kB)\n",
            "Requirement already satisfied: spacy<4.0,>=3.5 in /usr/local/lib/python3.10/dist-packages (from spacy-llm[transformers]) (3.7.5)\n",
            "Requirement already satisfied: jinja2 in /usr/local/lib/python3.10/dist-packages (from spacy-llm[transformers]) (3.1.4)\n",
            "Requirement already satisfied: confection<1.0.0,>=0.1.3 in /usr/local/lib/python3.10/dist-packages (from spacy-llm[transformers]) (0.1.5)\n",
            "Collecting torch<2.0,>=1.13.1 (from spacy-llm[transformers])\n",
            "  Downloading torch-1.13.1-cp310-cp310-manylinux1_x86_64.whl.metadata (24 kB)\n",
            "Requirement already satisfied: transformers<5.0,>=4.28.1 in /usr/local/lib/python3.10/dist-packages (from spacy-llm[transformers]) (4.42.4)\n",
            "Requirement already satisfied: einops>=0.4 in /usr/local/lib/python3.10/dist-packages (from spacy-llm[transformers]) (0.8.0)\n",
            "Collecting xformers (from spacy-llm[transformers])\n",
            "  Downloading xformers-0.0.27.post2-cp310-cp310-manylinux2014_x86_64.whl.metadata (1.0 kB)\n",
            "Requirement already satisfied: pydantic!=1.8,!=1.8.1,<3.0.0,>=1.7.4 in /usr/local/lib/python3.10/dist-packages (from confection<1.0.0,>=0.1.3->spacy-llm[transformers]) (2.8.2)\n",
            "Requirement already satisfied: srsly<3.0.0,>=2.4.0 in /usr/local/lib/python3.10/dist-packages (from confection<1.0.0,>=0.1.3->spacy-llm[transformers]) (2.4.8)\n",
            "Requirement already satisfied: spacy-legacy<3.1.0,>=3.0.11 in /usr/local/lib/python3.10/dist-packages (from spacy<4.0,>=3.5->spacy-llm[transformers]) (3.0.12)\n",
            "Requirement already satisfied: spacy-loggers<2.0.0,>=1.0.0 in /usr/local/lib/python3.10/dist-packages (from spacy<4.0,>=3.5->spacy-llm[transformers]) (1.0.5)\n",
            "Requirement already satisfied: murmurhash<1.1.0,>=0.28.0 in /usr/local/lib/python3.10/dist-packages (from spacy<4.0,>=3.5->spacy-llm[transformers]) (1.0.10)\n",
            "Requirement already satisfied: cymem<2.1.0,>=2.0.2 in /usr/local/lib/python3.10/dist-packages (from spacy<4.0,>=3.5->spacy-llm[transformers]) (2.0.8)\n",
            "Requirement already satisfied: preshed<3.1.0,>=3.0.2 in /usr/local/lib/python3.10/dist-packages (from spacy<4.0,>=3.5->spacy-llm[transformers]) (3.0.9)\n",
            "Requirement already satisfied: thinc<8.3.0,>=8.2.2 in /usr/local/lib/python3.10/dist-packages (from spacy<4.0,>=3.5->spacy-llm[transformers]) (8.2.5)\n",
            "Requirement already satisfied: wasabi<1.2.0,>=0.9.1 in /usr/local/lib/python3.10/dist-packages (from spacy<4.0,>=3.5->spacy-llm[transformers]) (1.1.3)\n",
            "Requirement already satisfied: catalogue<2.1.0,>=2.0.6 in /usr/local/lib/python3.10/dist-packages (from spacy<4.0,>=3.5->spacy-llm[transformers]) (2.0.10)\n",
            "Requirement already satisfied: weasel<0.5.0,>=0.1.0 in /usr/local/lib/python3.10/dist-packages (from spacy<4.0,>=3.5->spacy-llm[transformers]) (0.4.1)\n",
            "Requirement already satisfied: typer<1.0.0,>=0.3.0 in /usr/local/lib/python3.10/dist-packages (from spacy<4.0,>=3.5->spacy-llm[transformers]) (0.12.3)\n",
            "Requirement already satisfied: tqdm<5.0.0,>=4.38.0 in /usr/local/lib/python3.10/dist-packages (from spacy<4.0,>=3.5->spacy-llm[transformers]) (4.66.5)\n",
            "Requirement already satisfied: requests<3.0.0,>=2.13.0 in /usr/local/lib/python3.10/dist-packages (from spacy<4.0,>=3.5->spacy-llm[transformers]) (2.32.3)\n",
            "Requirement already satisfied: setuptools in /usr/local/lib/python3.10/dist-packages (from spacy<4.0,>=3.5->spacy-llm[transformers]) (71.0.4)\n",
            "Requirement already satisfied: packaging>=20.0 in /usr/local/lib/python3.10/dist-packages (from spacy<4.0,>=3.5->spacy-llm[transformers]) (24.1)\n",
            "Requirement already satisfied: langcodes<4.0.0,>=3.2.0 in /usr/local/lib/python3.10/dist-packages (from spacy<4.0,>=3.5->spacy-llm[transformers]) (3.4.0)\n",
            "Requirement already satisfied: numpy>=1.19.0 in /usr/local/lib/python3.10/dist-packages (from spacy<4.0,>=3.5->spacy-llm[transformers]) (1.26.4)\n",
            "Requirement already satisfied: typing-extensions in /usr/local/lib/python3.10/dist-packages (from torch<2.0,>=1.13.1->spacy-llm[transformers]) (4.12.2)\n",
            "Collecting nvidia-cuda-runtime-cu11==11.7.99 (from torch<2.0,>=1.13.1->spacy-llm[transformers])\n",
            "  Downloading nvidia_cuda_runtime_cu11-11.7.99-py3-none-manylinux1_x86_64.whl.metadata (1.6 kB)\n",
            "Collecting nvidia-cudnn-cu11==8.5.0.96 (from torch<2.0,>=1.13.1->spacy-llm[transformers])\n",
            "  Downloading nvidia_cudnn_cu11-8.5.0.96-2-py3-none-manylinux1_x86_64.whl.metadata (1.6 kB)\n",
            "Collecting nvidia-cublas-cu11==11.10.3.66 (from torch<2.0,>=1.13.1->spacy-llm[transformers])\n",
            "  Downloading nvidia_cublas_cu11-11.10.3.66-py3-none-manylinux1_x86_64.whl.metadata (1.6 kB)\n",
            "Collecting nvidia-cuda-nvrtc-cu11==11.7.99 (from torch<2.0,>=1.13.1->spacy-llm[transformers])\n",
            "  Downloading nvidia_cuda_nvrtc_cu11-11.7.99-2-py3-none-manylinux1_x86_64.whl.metadata (1.5 kB)\n",
            "Requirement already satisfied: wheel in /usr/local/lib/python3.10/dist-packages (from nvidia-cublas-cu11==11.10.3.66->torch<2.0,>=1.13.1->spacy-llm[transformers]) (0.44.0)\n",
            "Requirement already satisfied: filelock in /usr/local/lib/python3.10/dist-packages (from transformers<5.0,>=4.28.1->spacy-llm[transformers]) (3.15.4)\n",
            "Requirement already satisfied: huggingface-hub<1.0,>=0.23.2 in /usr/local/lib/python3.10/dist-packages (from transformers<5.0,>=4.28.1->spacy-llm[transformers]) (0.23.5)\n",
            "Requirement already satisfied: pyyaml>=5.1 in /usr/local/lib/python3.10/dist-packages (from transformers<5.0,>=4.28.1->spacy-llm[transformers]) (6.0.2)\n",
            "Requirement already satisfied: regex!=2019.12.17 in /usr/local/lib/python3.10/dist-packages (from transformers<5.0,>=4.28.1->spacy-llm[transformers]) (2024.5.15)\n",
            "Requirement already satisfied: safetensors>=0.4.1 in /usr/local/lib/python3.10/dist-packages (from transformers<5.0,>=4.28.1->spacy-llm[transformers]) (0.4.4)\n",
            "Requirement already satisfied: tokenizers<0.20,>=0.19 in /usr/local/lib/python3.10/dist-packages (from transformers<5.0,>=4.28.1->spacy-llm[transformers]) (0.19.1)\n",
            "Requirement already satisfied: MarkupSafe>=2.0 in /usr/local/lib/python3.10/dist-packages (from jinja2->spacy-llm[transformers]) (2.1.5)\n",
            "INFO: pip is looking at multiple versions of xformers to determine which version is compatible with other requirements. This could take a while.\n",
            "Collecting xformers (from spacy-llm[transformers])\n",
            "  Downloading xformers-0.0.27.post1-cp310-cp310-manylinux2014_x86_64.whl.metadata (1.0 kB)\n",
            "  Downloading xformers-0.0.27-cp310-cp310-manylinux2014_x86_64.whl.metadata (1.0 kB)\n",
            "  Downloading xformers-0.0.26.post1-cp310-cp310-manylinux2014_x86_64.whl.metadata (1.0 kB)\n",
            "  Downloading xformers-0.0.25.post1-cp310-cp310-manylinux2014_x86_64.whl.metadata (1.0 kB)\n",
            "  Downloading xformers-0.0.25-cp310-cp310-manylinux2014_x86_64.whl.metadata (1.0 kB)\n",
            "  Downloading xformers-0.0.24-cp310-cp310-manylinux2014_x86_64.whl.metadata (1.0 kB)\n",
            "  Downloading xformers-0.0.23.post1-cp310-cp310-manylinux2014_x86_64.whl.metadata (1.0 kB)\n",
            "INFO: pip is still looking at multiple versions of xformers to determine which version is compatible with other requirements. This could take a while.\n",
            "  Downloading xformers-0.0.23-cp310-cp310-manylinux2014_x86_64.whl.metadata (1.0 kB)\n",
            "  Downloading xformers-0.0.22.post7-cp310-cp310-manylinux2014_x86_64.whl.metadata (1.0 kB)\n",
            "  Downloading xformers-0.0.22-cp310-cp310-manylinux2014_x86_64.whl.metadata (1.0 kB)\n",
            "  Downloading xformers-0.0.21-cp310-cp310-manylinux2014_x86_64.whl.metadata (1.0 kB)\n",
            "  Downloading xformers-0.0.20-cp310-cp310-manylinux2014_x86_64.whl.metadata (1.1 kB)\n",
            "Collecting pyre-extensions==0.0.29 (from xformers->spacy-llm[transformers])\n",
            "  Downloading pyre_extensions-0.0.29-py3-none-any.whl.metadata (4.0 kB)\n",
            "INFO: This is taking longer than usual. You might need to provide the dependency resolver with stricter constraints to reduce runtime. See https://pip.pypa.io/warnings/backtracking for guidance. If you want to abort this run, press Ctrl + C.\n",
            "Collecting xformers (from spacy-llm[transformers])\n",
            "  Downloading xformers-0.0.19-cp310-cp310-manylinux2014_x86_64.whl.metadata (1.1 kB)\n",
            "  Downloading xformers-0.0.18-cp310-cp310-manylinux2014_x86_64.whl.metadata (1.1 kB)\n",
            "Collecting pyre-extensions==0.0.23 (from xformers->spacy-llm[transformers])\n",
            "  Downloading pyre_extensions-0.0.23-py3-none-any.whl.metadata (4.0 kB)\n",
            "Collecting xformers (from spacy-llm[transformers])\n",
            "  Downloading xformers-0.0.17-cp310-cp310-manylinux2014_x86_64.whl.metadata (1.1 kB)\n",
            "  Downloading xformers-0.0.16-cp310-cp310-manylinux2014_x86_64.whl.metadata (1.1 kB)\n",
            "Collecting typing-inspect (from pyre-extensions==0.0.23->xformers->spacy-llm[transformers])\n",
            "  Downloading typing_inspect-0.9.0-py3-none-any.whl.metadata (1.5 kB)\n",
            "Requirement already satisfied: fsspec>=2023.5.0 in /usr/local/lib/python3.10/dist-packages (from huggingface-hub<1.0,>=0.23.2->transformers<5.0,>=4.28.1->spacy-llm[transformers]) (2024.6.1)\n",
            "Requirement already satisfied: language-data>=1.2 in /usr/local/lib/python3.10/dist-packages (from langcodes<4.0.0,>=3.2.0->spacy<4.0,>=3.5->spacy-llm[transformers]) (1.2.0)\n",
            "Requirement already satisfied: annotated-types>=0.4.0 in /usr/local/lib/python3.10/dist-packages (from pydantic!=1.8,!=1.8.1,<3.0.0,>=1.7.4->confection<1.0.0,>=0.1.3->spacy-llm[transformers]) (0.7.0)\n",
            "Requirement already satisfied: pydantic-core==2.20.1 in /usr/local/lib/python3.10/dist-packages (from pydantic!=1.8,!=1.8.1,<3.0.0,>=1.7.4->confection<1.0.0,>=0.1.3->spacy-llm[transformers]) (2.20.1)\n",
            "Requirement already satisfied: charset-normalizer<4,>=2 in /usr/local/lib/python3.10/dist-packages (from requests<3.0.0,>=2.13.0->spacy<4.0,>=3.5->spacy-llm[transformers]) (3.3.2)\n",
            "Requirement already satisfied: idna<4,>=2.5 in /usr/local/lib/python3.10/dist-packages (from requests<3.0.0,>=2.13.0->spacy<4.0,>=3.5->spacy-llm[transformers]) (3.7)\n",
            "Requirement already satisfied: urllib3<3,>=1.21.1 in /usr/local/lib/python3.10/dist-packages (from requests<3.0.0,>=2.13.0->spacy<4.0,>=3.5->spacy-llm[transformers]) (2.0.7)\n",
            "Requirement already satisfied: certifi>=2017.4.17 in /usr/local/lib/python3.10/dist-packages (from requests<3.0.0,>=2.13.0->spacy<4.0,>=3.5->spacy-llm[transformers]) (2024.7.4)\n",
            "Requirement already satisfied: blis<0.8.0,>=0.7.8 in /usr/local/lib/python3.10/dist-packages (from thinc<8.3.0,>=8.2.2->spacy<4.0,>=3.5->spacy-llm[transformers]) (0.7.11)\n",
            "Requirement already satisfied: click>=8.0.0 in /usr/local/lib/python3.10/dist-packages (from typer<1.0.0,>=0.3.0->spacy<4.0,>=3.5->spacy-llm[transformers]) (8.1.7)\n",
            "Requirement already satisfied: shellingham>=1.3.0 in /usr/local/lib/python3.10/dist-packages (from typer<1.0.0,>=0.3.0->spacy<4.0,>=3.5->spacy-llm[transformers]) (1.5.4)\n",
            "Requirement already satisfied: rich>=10.11.0 in /usr/local/lib/python3.10/dist-packages (from typer<1.0.0,>=0.3.0->spacy<4.0,>=3.5->spacy-llm[transformers]) (13.7.1)\n",
            "Requirement already satisfied: cloudpathlib<1.0.0,>=0.7.0 in /usr/local/lib/python3.10/dist-packages (from weasel<0.5.0,>=0.1.0->spacy<4.0,>=3.5->spacy-llm[transformers]) (0.18.1)\n",
            "Requirement already satisfied: smart-open<8.0.0,>=5.2.1 in /usr/local/lib/python3.10/dist-packages (from weasel<0.5.0,>=0.1.0->spacy<4.0,>=3.5->spacy-llm[transformers]) (7.0.4)\n",
            "Requirement already satisfied: marisa-trie>=0.7.7 in /usr/local/lib/python3.10/dist-packages (from language-data>=1.2->langcodes<4.0.0,>=3.2.0->spacy<4.0,>=3.5->spacy-llm[transformers]) (1.2.0)\n",
            "Requirement already satisfied: markdown-it-py>=2.2.0 in /usr/local/lib/python3.10/dist-packages (from rich>=10.11.0->typer<1.0.0,>=0.3.0->spacy<4.0,>=3.5->spacy-llm[transformers]) (3.0.0)\n",
            "Requirement already satisfied: pygments<3.0.0,>=2.13.0 in /usr/local/lib/python3.10/dist-packages (from rich>=10.11.0->typer<1.0.0,>=0.3.0->spacy<4.0,>=3.5->spacy-llm[transformers]) (2.16.1)\n",
            "Requirement already satisfied: wrapt in /usr/local/lib/python3.10/dist-packages (from smart-open<8.0.0,>=5.2.1->weasel<0.5.0,>=0.1.0->spacy<4.0,>=3.5->spacy-llm[transformers]) (1.16.0)\n",
            "Collecting mypy-extensions>=0.3.0 (from typing-inspect->pyre-extensions==0.0.23->xformers->spacy-llm[transformers])\n",
            "  Downloading mypy_extensions-1.0.0-py3-none-any.whl.metadata (1.1 kB)\n",
            "Requirement already satisfied: mdurl~=0.1 in /usr/local/lib/python3.10/dist-packages (from markdown-it-py>=2.2.0->rich>=10.11.0->typer<1.0.0,>=0.3.0->spacy<4.0,>=3.5->spacy-llm[transformers]) (0.1.2)\n",
            "Downloading torch-1.13.1-cp310-cp310-manylinux1_x86_64.whl (887.5 MB)\n",
            "\u001b[2K   \u001b[90m━━━━━━━━━━━━━━━━━━━━━━━━━━━━━━━━━━━━━━━━\u001b[0m \u001b[32m887.5/887.5 MB\u001b[0m \u001b[31m1.8 MB/s\u001b[0m eta \u001b[36m0:00:00\u001b[0m\n",
            "\u001b[?25hDownloading nvidia_cublas_cu11-11.10.3.66-py3-none-manylinux1_x86_64.whl (317.1 MB)\n",
            "\u001b[2K   \u001b[90m━━━━━━━━━━━━━━━━━━━━━━━━━━━━━━━━━━━━━━━━\u001b[0m \u001b[32m317.1/317.1 MB\u001b[0m \u001b[31m4.9 MB/s\u001b[0m eta \u001b[36m0:00:00\u001b[0m\n",
            "\u001b[?25hDownloading nvidia_cuda_nvrtc_cu11-11.7.99-2-py3-none-manylinux1_x86_64.whl (21.0 MB)\n",
            "\u001b[2K   \u001b[90m━━━━━━━━━━━━━━━━━━━━━━━━━━━━━━━━━━━━━━━━\u001b[0m \u001b[32m21.0/21.0 MB\u001b[0m \u001b[31m34.2 MB/s\u001b[0m eta \u001b[36m0:00:00\u001b[0m\n",
            "\u001b[?25hDownloading nvidia_cuda_runtime_cu11-11.7.99-py3-none-manylinux1_x86_64.whl (849 kB)\n",
            "\u001b[2K   \u001b[90m━━━━━━━━━━━━━━━━━━━━━━━━━━━━━━━━━━━━━━━━\u001b[0m \u001b[32m849.3/849.3 kB\u001b[0m \u001b[31m34.3 MB/s\u001b[0m eta \u001b[36m0:00:00\u001b[0m\n",
            "\u001b[?25hDownloading nvidia_cudnn_cu11-8.5.0.96-2-py3-none-manylinux1_x86_64.whl (557.1 MB)\n",
            "\u001b[2K   \u001b[90m━━━━━━━━━━━━━━━━━━━━━━━━━━━━━━━━━━━━━━━━\u001b[0m \u001b[32m557.1/557.1 MB\u001b[0m \u001b[31m2.7 MB/s\u001b[0m eta \u001b[36m0:00:00\u001b[0m\n",
            "\u001b[?25hDownloading spacy_llm-0.7.2-py2.py3-none-any.whl (255 kB)\n",
            "\u001b[2K   \u001b[90m━━━━━━━━━━━━━━━━━━━━━━━━━━━━━━━━━━━━━━━━\u001b[0m \u001b[32m255.9/255.9 kB\u001b[0m \u001b[31m8.7 MB/s\u001b[0m eta \u001b[36m0:00:00\u001b[0m\n",
            "\u001b[?25hDownloading xformers-0.0.16-cp310-cp310-manylinux2014_x86_64.whl (50.9 MB)\n",
            "\u001b[2K   \u001b[90m━━━━━━━━━━━━━━━━━━━━━━━━━━━━━━━━━━━━━━━━\u001b[0m \u001b[32m50.9/50.9 MB\u001b[0m \u001b[31m9.0 MB/s\u001b[0m eta \u001b[36m0:00:00\u001b[0m\n",
            "\u001b[?25hDownloading pyre_extensions-0.0.23-py3-none-any.whl (11 kB)\n",
            "Downloading typing_inspect-0.9.0-py3-none-any.whl (8.8 kB)\n",
            "Downloading mypy_extensions-1.0.0-py3-none-any.whl (4.7 kB)\n",
            "Installing collected packages: nvidia-cuda-runtime-cu11, nvidia-cuda-nvrtc-cu11, nvidia-cublas-cu11, mypy-extensions, typing-inspect, nvidia-cudnn-cu11, torch, pyre-extensions, xformers, spacy-llm\n",
            "  Attempting uninstall: torch\n",
            "    Found existing installation: torch 2.3.1+cu121\n",
            "    Uninstalling torch-2.3.1+cu121:\n",
            "      Successfully uninstalled torch-2.3.1+cu121\n",
            "\u001b[31mERROR: pip's dependency resolver does not currently take into account all the packages that are installed. This behaviour is the source of the following dependency conflicts.\n",
            "torchaudio 2.3.1+cu121 requires torch==2.3.1, but you have torch 1.13.1 which is incompatible.\n",
            "torchtext 0.18.0 requires torch>=2.3.0, but you have torch 1.13.1 which is incompatible.\n",
            "torchvision 0.18.1+cu121 requires torch==2.3.1, but you have torch 1.13.1 which is incompatible.\u001b[0m\u001b[31m\n",
            "\u001b[0mSuccessfully installed mypy-extensions-1.0.0 nvidia-cublas-cu11-11.10.3.66 nvidia-cuda-nvrtc-cu11-11.7.99 nvidia-cuda-runtime-cu11-11.7.99 nvidia-cudnn-cu11-8.5.0.96 pyre-extensions-0.0.23 spacy-llm-0.7.2 torch-1.13.1 typing-inspect-0.9.0 xformers-0.0.16\n"
          ]
        }
      ]
    },
    {
      "cell_type": "markdown",
      "source": [
        "###  1. Setup API Key"
      ],
      "metadata": {
        "id": "NhGraJY2kOH9"
      }
    },
    {
      "cell_type": "markdown",
      "source": [
        "[Application programming interface key](https://en.wikipedia.org/wiki/API_key) (API), is a unique code that identifies and authenticates an application or user.\n",
        "In this tutorial, we will use OpenAI API key, which is necessary to proceed our LLM NER model below. You can create your OpenAI API key and organization in your [OpenAI account platform](https://platform.openai.com/docs/quickstart). Then, you can copy and paste them in the quote below."
      ],
      "metadata": {
        "id": "iAINQeT8ckT-"
      }
    },
    {
      "cell_type": "code",
      "source": [
        "from google.colab import userdata\n"
      ],
      "metadata": {
        "id": "KtpCRYEv19_t"
      },
      "execution_count": null,
      "outputs": []
    },
    {
      "cell_type": "code",
      "source": [
        "import os\n",
        "import openai\n",
        "\n",
        "# Set your OpenAI API key and organization\n",
        "# os.environ[\"OPENAI_API_KEY\"] = \"<YOUR_OPENAI_API_KEY>\"\n",
        "\n",
        "os.environ[\"OPENAI_API_KEY\"] = userdata.get('openai_api_key')\n"
      ],
      "metadata": {
        "collapsed": true,
        "id": "mSSnNIi4yVRw"
      },
      "execution_count": null,
      "outputs": []
    },
    {
      "cell_type": "markdown",
      "source": [
        "**Warning!** All API usage is subject to rate limits. The OpenAI API has separate limits for requests per minute and tokens per minute. If you tried too many times using your OpenAI API key within a short time, your code might be running very slowly. You may receive the following report:\n",
        "![Screenshot 2024-07-28 at 17.05.59.png](data:image/png;base64,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) So be sure to run the code wisely, or refer to [this](https://cookbook.openai.com/examples/how_to_handle_rate_limits) OpenAI webpage for possible soulutions."
      ],
      "metadata": {
        "id": "RGQqcsBazhnW"
      }
    },
    {
      "cell_type": "markdown",
      "source": [
        "###  2. Create Configuration File"
      ],
      "metadata": {
        "id": "5nQDt9TPduFZ"
      }
    },
    {
      "cell_type": "markdown",
      "source": [
        "Configuration files are used to configure the parameters and initial settings of computer programs. Here, we will create a configuration file that spaCy will use to set up the NER pipeline. Specifically:\n",
        "\n",
        "*   The `[paths]` section specifies where the examples file is located.\n",
        "*   The `[nlp]` section defines the language and the pipeline components.\n",
        "*   The `[components.llm]` section configures the LLM component.\n",
        "*   The `[components.llm.task]` section defines the NER task, including the labels (eg., PERSON, ORG, DATE) and their definitions.\n",
        "*   The `[components.llm.task.examples]` section specifies the path to the examples file.\n",
        "*   The `[components.llm.model]` section specifies the model to use (eg., GPT-3.5).\n",
        "\n",
        "Refer to [here](https://github.com/explosion/spacy-llm/blob/main/usage_examples/ner_v3_openai/fewshot.cfg) for further information."
      ],
      "metadata": {
        "id": "VOQF4mqWd6xZ"
      }
    },
    {
      "cell_type": "markdown",
      "source": [
        "\n",
        "\n",
        " *Note that the code inside the triple quotes (\"\"\" \"\"\") is a way to define a multi-line string in Python. This string is not executed by itself but can be written to a file or used in other ways within the script. When you see a block of code inside triple quotes, it is typically meant to be stored as a string variable and then used for further processing, such as writing it to a file.In this specific case, the pipeline_script variable holds the entire Python script as a multi-line string. The subsequent code writes this string to a file named run_pipeline.py, making it an executable script.* You want to not modify this format."
      ],
      "metadata": {
        "id": "2yGRcLqAlfWw"
      }
    },
    {
      "cell_type": "code",
      "source": [
        "config_content = \"\"\"\n",
        "[paths]\n",
        "examples = \"example.json\"\n",
        "\n",
        "[nlp]\n",
        "lang = \"en\"\n",
        "pipeline = [\"llm\"]\n",
        "\n",
        "[components]\n",
        "\n",
        "[components.llm]\n",
        "factory = \"llm\"\n",
        "\n",
        "[components.llm.task]\n",
        "@llm_tasks = \"spacy.NER.v3\"\n",
        "labels = [\"Author\", \"Character\", \"Work\"]\n",
        "description = \"Entities are names of authors, works such as novels, and fictional characters. Every time an author, work, or character is mentioned, that is an entity. Adjectives, verbs, adverbs are not entities. Pronouns are not entities.\"\n",
        "\n",
        "[components.llm.task.label_definitions]\n",
        "Author = \"Extract all names of authors by full name or last name, e.g. James Baldwin or Baldwin\"\n",
        "Character = \"Extract all names of fictional characters whether full name, first name, or last name, e.g. Viktor Frankenstein, Frankenstein, Viktor, Gatsby\"\n",
        "Work = \"Extract all names of artistic works, such as a novel, e.g., Beloved, The Great Gatsby\"\n",
        "\n",
        "[components.llm.task.examples]\n",
        "@misc = \"spacy.FewShotReader.v1\"\n",
        "path = \"example.json\"\n",
        "\n",
        "[components.llm.model]\n",
        "@llm_models = \"spacy.GPT-4.v2\"\n",
        "\"\"\"\n",
        "\n",
        "# Write the updated configuration to a config file\n",
        "with open(\"config.cfg\", \"w\") as file:\n",
        "    file.write(config_content)\n"
      ],
      "metadata": {
        "id": "cqhPEZ6s3ecz"
      },
      "execution_count": null,
      "outputs": []
    },
    {
      "cell_type": "markdown",
      "source": [
        "We save it to the file called `\"config.cfg\"`. You can get access to this file by clickling on the file icon on the left. Note that we define three labels, `'PERSON'`, `'ORG'`, `'DATE'`, in this example. You may define other labels specific to your tasks."
      ],
      "metadata": {
        "id": "2KgXdPrHsTw5"
      }
    },
    {
      "cell_type": "markdown",
      "source": [
        "### 3. Create Example Data\n",
        "\n",
        "[JavaScript Object Notation](https://en.wikipedia.org/wiki/JSON) (JSON) is an open standard file format for communicating data between browsers and servers, as a text-based format derived from JavaScript. JSON is a plain text written in JavaScript object notation and easy for humans to read and write.\n",
        "\n",
        "In our JSON file, we define a text example and annotations for entities (PERSON, DATE). Each entry in spans includes the text of the entity, whether it is an entity, its label, and the reason."
      ],
      "metadata": {
        "id": "UoRKj7CrIrO3"
      }
    },
    {
      "cell_type": "markdown",
      "source": [
        "We use the following sentences as the example for the purpose of demonstration:\n",
        "\n",
        "> \"President Joe Biden announced to the nation on Sunday that he is standing down from running in the 2024 presidential race. The news comes as several top Democratic voices called for him to step aside from his bid for reelection after a shaky debate performance against former President Donald Trump in June.\":\n",
        "\n"
      ],
      "metadata": {
        "id": "Q0IvB1geescY"
      }
    },
    {
      "cell_type": "code",
      "source": [
        "import json\n",
        "\n",
        "expanded_example_content = [\n",
        "    {\n",
        "        \"text\": \"\"\"\n",
        "        — pride and prejudice by jane austen stands as a pinnacle of english literature.\n",
        "        elizabeth is such a strong fmc. opposite elizabeth bennet stands the brooding and enigmatic mr. darcy, a wealthy and reserved gentleman.\n",
        "        \"\"\",\n",
        "        \"spans\": [\n",
        "            {\"text\": \"pride and prejudice\", \"is_entity\": True, \"label\": \"Work\", \"reason\": \"Name of a novel\"},\n",
        "            {\"text\": \"jane austen\", \"is_entity\": True, \"label\": \"Author\", \"reason\": \"Name of author\"},\n",
        "            {\"text\": \"mr. darcy\", \"is_entity\": True, \"label\": \"Character\", \"reason\": \"Name of character\"},\n",
        "            {\"text\": \"elizabeth\", \"is_entity\": True, \"label\": \"Character\", \"reason\": \"Name of character\"},\n",
        "            {\"text\": \"elizabeth bennet\", \"is_entity\": True, \"label\": \"Character\", \"reason\": \"Name of character\"},\n",
        "        ]\n",
        "    },\n",
        "    # New examples with variations\n",
        "    {\n",
        "        \"text\": \"\"\"\n",
        "        Fitzgerald's The Great Gatsby explores the life of Jay Gatsby. Gatsby is deeply in love with Daisy Buchanan,\n",
        "        but Nick, the narrator, remains a mystery.\n",
        "        \"\"\",\n",
        "        \"spans\": [\n",
        "            {\"text\": \"Fitzgerald\", \"is_entity\": True, \"label\": \"Author\", \"reason\": \"Name of author\"},\n",
        "            {\"text\": \"The Great Gatsby\", \"is_entity\": True, \"label\": \"Work\", \"reason\": \"Name of novel\"},\n",
        "            {\"text\": \"Jay Gatsby\", \"is_entity\": True, \"label\": \"Character\", \"reason\": \"Name of character\"},\n",
        "            {\"text\": \"Gatsby\", \"is_entity\": True, \"label\": \"Character\", \"reason\": \"Nickname of character\"},\n",
        "            {\"text\": \"Daisy Buchanan\", \"is_entity\": True, \"label\": \"Character\", \"reason\": \"Name of character\"},\n",
        "            {\"text\": \"Nick\", \"is_entity\": True, \"label\": \"Character\", \"reason\": \"Name of character\"},\n",
        "        ]\n",
        "    },\n",
        "    {\n",
        "        \"text\": \"\"\"\n",
        "        In Mary Shelley's Frankenstein, Victor Frankenstein creates a monster. Frankenstein and the monster engage\n",
        "        in a battle of wits throughout the novel.\n",
        "        \"\"\",\n",
        "        \"spans\": [\n",
        "            {\"text\": \"Mary Shelley\", \"is_entity\": True, \"label\": \"Author\", \"reason\": \"Name of author\"},\n",
        "            {\"text\": \"Frankenstein\", \"is_entity\": True, \"label\": \"Work\", \"reason\": \"Name of novel\"},\n",
        "            {\"text\": \"Victor Frankenstein\", \"is_entity\": True, \"label\": \"Character\", \"reason\": \"Name of character\"},\n",
        "            {\"text\": \"Frankenstein\", \"is_entity\": True, \"label\": \"Character\", \"reason\": \"Nickname of character\"},\n",
        "        ]\n",
        "    },\n",
        "    {\n",
        "        \"text\": \"\"\"\n",
        "        The tale of Sherlock Holmes, written by Arthur Conan Doyle, is legendary. Holmes and Dr. Watson solve\n",
        "        crimes together.\n",
        "        \"\"\",\n",
        "        \"spans\": [\n",
        "            {\"text\": \"Sherlock Holmes\", \"is_entity\": True, \"label\": \"Character\", \"reason\": \"Name of character\"},\n",
        "            {\"text\": \"Arthur Conan Doyle\", \"is_entity\": True, \"label\": \"Author\", \"reason\": \"Name of author\"},\n",
        "            {\"text\": \"Holmes\", \"is_entity\": True, \"label\": \"Character\", \"reason\": \"Nickname of character\"},\n",
        "            {\"text\": \"Dr. Watson\", \"is_entity\": True, \"label\": \"Character\", \"reason\": \"Name of character\"},\n",
        "        ]\n",
        "    }\n",
        "]\n",
        "\n",
        "# Write the expanded examples to a JSON file\n",
        "with open(\"example.json\", \"w\") as file:\n",
        "    json.dump(expanded_example_content, file)\n"
      ],
      "metadata": {
        "id": "d0L3ZUgsfInB"
      },
      "execution_count": null,
      "outputs": []
    },
    {
      "cell_type": "markdown",
      "source": [
        "Again, we save this entity definitions to a file called `\"Bidenexample.json\"`. These saved files will be used in our future code."
      ],
      "metadata": {
        "id": "cx-PrWWzs3Iu"
      }
    },
    {
      "cell_type": "markdown",
      "source": [
        "### 4. Create Pipeline Script"
      ],
      "metadata": {
        "id": "i9idua6fgF2N"
      }
    },
    {
      "cell_type": "markdown",
      "source": [
        "A **pipeline script** is a piece of code that defines and executes a series of steps or stages (a pipeline) to process data.\n",
        "\n",
        "We will create a script that sets up and runs the NER pipeline using the configuration and example data. Refer to [here](https://github.com/explosion/spacy-llm/blob/main/usage_examples/ner_v3_openai/run_pipeline.py) for further information.\n",
        "\n",
        "Here's a breakdown of the steps that what a script does:\n",
        "\n",
        "1.\tLoad a configuration file.\n",
        "2.\tAssemble the NLP pipeline based on the configuration.\n",
        "3.\tProcess a given text.\n",
        "4.\tOutput the recognized entities.\n",
        "\n",
        "In our script below, here are some highlights:\n",
        "*   The script loads the configuration and example data, sets up the NER pipeline, and processes the input text to identify entities.\n",
        "*   The `assemble` function from `spacy_llm.util` is used to create the pipeline.\n",
        "*   The `run_pipeline` function takes the text to analyze, the configuration file path, and the examples file path as arguments."
      ],
      "metadata": {
        "id": "Iz6TEQGigJsq"
      }
    },
    {
      "cell_type": "code",
      "source": [
        "pipeline_script = \"\"\"\n",
        "from pathlib import Path\n",
        "import typer\n",
        "from wasabi import msg\n",
        "from spacy_llm.util import assemble\n",
        "\n",
        "Arg = typer.Argument\n",
        "Opt = typer.Option\n",
        "\n",
        "def run_pipeline(\n",
        "    text: str = Arg(\"\", help=\"Text to perform Named Entity Recognition on.\"),\n",
        "    config_path: Path = Arg(..., help=\"Path to the configuration file to use.\"),\n",
        "    examples_path: Path = Arg(..., help=\"Path to the examples file to use.\"),\n",
        "    verbose: bool = Opt(False, \"--verbose\", \"-v\", help=\"Show extra information.\"),\n",
        "):\n",
        "    msg.text(f\"Loading config from {config_path}\", show=verbose)\n",
        "    nlp = assemble(config_path, overrides={\"paths.examples\": str(examples_path)})\n",
        "    doc = nlp(text)\n",
        "\n",
        "    msg.text(f\"Text: {doc.text}\")\n",
        "    msg.text(f\"Entities: {[(ent.text, ent.label_) for ent in doc.ents]}\")\n",
        "\n",
        "if __name__ == \"__main__\":\n",
        "    typer.run(run_pipeline)\n",
        "\"\"\"\n",
        "\n",
        "with open(\"run_pipeline.py\", \"w\") as file:\n",
        "    file.write(pipeline_script)"
      ],
      "metadata": {
        "id": "t4RdgHphiUfG"
      },
      "execution_count": null,
      "outputs": []
    },
    {
      "cell_type": "markdown",
      "source": [
        "### 5. Run Pipeline Script"
      ],
      "metadata": {
        "id": "956ArSFUmDEd"
      }
    },
    {
      "cell_type": "markdown",
      "source": [
        "Finally, we can run the pipeline script with the provided example sentences. In specific:\n",
        "*   This code snippet makes the `run_pipeline.py` script executable.\n",
        "*   It then runs the script with the example sentence to perform NER, using the configuration and examples we set up earlier.\n",
        "\n",
        "You can run the pipeline on a sample text via:\n",
        "\n",
        "\n",
        "```\n",
        "python run_pipeline.py [TEXT] [PATH TO CONFIG] [PATH TO FILE WITH EXAMPLES]\n",
        "```\n",
        "\n",
        "\n",
        "\n",
        "Refer to [here](https://github.com/explosion/spacy-llm/tree/main/usage_examples/ner_v3_openai) for further information. The below code shows how it works in our example."
      ],
      "metadata": {
        "id": "Nx1Jr5QUmGHO"
      }
    },
    {
      "cell_type": "markdown",
      "source": [
        "There are two ways to run the script in the notebook. You can either choose to run the script as a separate process like **# 1** by handling command-line arguments, or directly calling the assemble function in the Jupyter notebook like **# 2** shows."
      ],
      "metadata": {
        "id": "FfOHfxcbrCbc"
      }
    },
    {
      "cell_type": "code",
      "source": [
        "# 1: run script as seperate process.\n",
        "\n",
        "# Ensure the script is executable\n",
        "!chmod +x run_pipeline.py\n",
        "\n",
        "# Run the pipeline with the example text\n",
        "!python run_pipeline.py \"\"\"Fitzgerald, you have ruined me. Fitzgerald can set a scene so perfectly, flawlessly. He paints a world of magic and introduces one of the greatest characters of all time, Jay Gatsby. Gatsby is the embodiment of hope, and no one can dissuade him from his dreams. Have you ever had a dream that carried you to heights you could never have dreamed otherwise? When Gatsby is reunited with Daisy Buchanan, he fills the space to the brim with flowers, creating a living dream. How is anyone supposed to compete with that? The Great Gatsby perfectly makes use of a narrator, Nick. Why is Gatsby so great? Because Nick tells us. If Gatsby told us, we would just think that he is a braggard, the least humble person in the world. This book is wildly addictive, so intricate yet perfectly woven together, a brilliant literary masterpiece. I have to keep going back to reconnect with Jay Gatsby, a naïve but beautiful and charming hope, perfectly imperfect, a relentless dreamer.\"\"\" \\\n",
        "./config.cfg \\\n",
        "./example.json"
      ],
      "metadata": {
        "id": "bg7iRUwdgJZX",
        "colab": {
          "base_uri": "https://localhost:8080/"
        },
        "outputId": "994fc698-9ae5-473c-cfab-738aa2d656bc"
      },
      "execution_count": null,
      "outputs": [
        {
          "output_type": "stream",
          "name": "stdout",
          "text": [
            "Text: Fitzgerald, you have ruined me. Fitzgerald can set a scene so perfectly,\n",
            "flawlessly. He paints a world of magic and introduces one of the greatest\n",
            "characters of all time, Jay Gatsby. Gatsby is the embodiment of hope, and no one\n",
            "can dissuade him from his dreams. Have you ever had a dream that carried you to\n",
            "heights you could never have dreamed otherwise? When Gatsby is reunited with\n",
            "Daisy Buchanan, he fills the space to the brim with flowers, creating a living\n",
            "dream. How is anyone supposed to compete with that? The Great Gatsby perfectly\n",
            "makes use of a narrator, Nick. Why is Gatsby so great? Because Nick tells us. If\n",
            "Gatsby told us, we would just think that he is a braggard, the least humble\n",
            "person in the world. This book is wildly addictive, so intricate yet perfectly\n",
            "woven together, a brilliant literary masterpiece. I have to keep going back to\n",
            "reconnect with Jay Gatsby, a naïve but beautiful and charming hope, perfectly\n",
            "imperfect, a relentless dreamer.\n",
            "Entities: [('Fitzgerald', 'Author'), ('Jay Gatsby', 'Character'), ('Gatsby',\n",
            "'Character'), ('Daisy Buchanan', 'Character'), ('The Great Gatsby', 'Work'),\n",
            "('Nick', 'Character')]\n"
          ]
        }
      ]
    },
    {
      "cell_type": "code",
      "source": [
        "# 2: Directly call the assemble function in the Jupyter notebook\n",
        "\n",
        "from spacy_llm.util import assemble\n",
        "nlp = assemble(\"config.cfg\")\n",
        "\n",
        "doc = nlp(\"\"\"\n",
        "Fitzgerald, you have ruined me.\n",
        "\n",
        "Fitzgerald can set a scene so perfectly, flawlessly. He paints a world of magic and introduces one of the greatest characters of all time, Jay Gatsby. Gatsby is the embodiment of hope, and no one can dissuade him from his dreams. Have you ever had a dream that carried you to heights you could never have dreamed otherwise? When Gatsby is reunited with Daisy Buchanan, he fills the space to the brim with flowers, creating a living dream. How is anyone supposed to compete with that?\n",
        "\n",
        "The Great Gatsby perfectly makes use of a narrator, Nick. Why is Gatsby so great? Because Nick tells us. If Gatsby told us, we would just think that he is a braggard, the least humble person in the world.\n",
        "\n",
        "This book is wildly addictive, so intricate yet perfectly woven together, a brilliant literary masterpiece. I have to keep going back to reconnect with Jay Gatsby, a naïve but beautiful and charming hope, perfectly imperfect, a relentless dreamer.\n",
        "\"\"\")\n",
        "\n",
        "print([(ent.text, ent.label_) for ent in doc.ents])"
      ],
      "metadata": {
        "colab": {
          "base_uri": "https://localhost:8080/"
        },
        "id": "JRZhX-OapH8F",
        "outputId": "db5425a1-8298-4ce8-ed30-3d6e740e3b46"
      },
      "execution_count": null,
      "outputs": [
        {
          "output_type": "stream",
          "name": "stdout",
          "text": [
            "[('Fitzgerald', 'Author'), ('Jay Gatsby', 'Character'), ('Gatsby', 'Character'), ('Daisy Buchanan', 'Character'), ('The Great Gatsby', 'Work'), ('Nick', 'Character')]\n"
          ]
        }
      ]
    },
    {
      "cell_type": "code",
      "source": [
        "doc.ents"
      ],
      "metadata": {
        "colab": {
          "base_uri": "https://localhost:8080/"
        },
        "id": "ifYg14-vz46V",
        "outputId": "dfc63a11-4d91-47f2-8be2-b7a7a6d2bb56"
      },
      "execution_count": null,
      "outputs": [
        {
          "output_type": "execute_result",
          "data": {
            "text/plain": [
              "(Fitzgerald, Jay Gatsby, Gatsby, Daisy Buchanan, The Great Gatsby, Nick)"
            ]
          },
          "metadata": {},
          "execution_count": 8
        }
      ]
    },
    {
      "cell_type": "code",
      "source": [
        "from spacy import displacy"
      ],
      "metadata": {
        "id": "h1NflifS0z3S"
      },
      "execution_count": null,
      "outputs": []
    },
    {
      "cell_type": "code",
      "source": [
        "displacy.render(doc, style=\"ent\")"
      ],
      "metadata": {
        "colab": {
          "base_uri": "https://localhost:8080/",
          "height": 367
        },
        "id": "ALaK-vE_0uTr",
        "outputId": "b9ad3420-a859-4535-ca32-01e73649e2ec"
      },
      "execution_count": null,
      "outputs": [
        {
          "output_type": "display_data",
          "data": {
            "text/plain": [
              "<IPython.core.display.HTML object>"
            ],
            "text/html": [
              "<span class=\"tex2jax_ignore\"><div class=\"entities\" style=\"line-height: 2.5; direction: ltr\"><br>\n",
              "<mark class=\"entity\" style=\"background: #ddd; padding: 0.45em 0.6em; margin: 0 0.25em; line-height: 1; border-radius: 0.35em;\">\n",
              "    Fitzgerald\n",
              "    <span style=\"font-size: 0.8em; font-weight: bold; line-height: 1; border-radius: 0.35em; vertical-align: middle; margin-left: 0.5rem\">Author</span>\n",
              "</mark>\n",
              ", you have ruined me.<br><br>Fitzgerald can set a scene so perfectly, flawlessly. He paints a world of magic and introduces one of the greatest characters of all time, \n",
              "<mark class=\"entity\" style=\"background: #ddd; padding: 0.45em 0.6em; margin: 0 0.25em; line-height: 1; border-radius: 0.35em;\">\n",
              "    Jay Gatsby\n",
              "    <span style=\"font-size: 0.8em; font-weight: bold; line-height: 1; border-radius: 0.35em; vertical-align: middle; margin-left: 0.5rem\">Character</span>\n",
              "</mark>\n",
              ". \n",
              "<mark class=\"entity\" style=\"background: #ddd; padding: 0.45em 0.6em; margin: 0 0.25em; line-height: 1; border-radius: 0.35em;\">\n",
              "    Gatsby\n",
              "    <span style=\"font-size: 0.8em; font-weight: bold; line-height: 1; border-radius: 0.35em; vertical-align: middle; margin-left: 0.5rem\">Character</span>\n",
              "</mark>\n",
              " is the embodiment of hope, and no one can dissuade him from his dreams. Have you ever had a dream that carried you to heights you could never have dreamed otherwise? When Gatsby is reunited with \n",
              "<mark class=\"entity\" style=\"background: #ddd; padding: 0.45em 0.6em; margin: 0 0.25em; line-height: 1; border-radius: 0.35em;\">\n",
              "    Daisy Buchanan\n",
              "    <span style=\"font-size: 0.8em; font-weight: bold; line-height: 1; border-radius: 0.35em; vertical-align: middle; margin-left: 0.5rem\">Character</span>\n",
              "</mark>\n",
              ", he fills the space to the brim with flowers, creating a living dream. How is anyone supposed to compete with that?<br><br>\n",
              "<mark class=\"entity\" style=\"background: #ddd; padding: 0.45em 0.6em; margin: 0 0.25em; line-height: 1; border-radius: 0.35em;\">\n",
              "    The Great Gatsby\n",
              "    <span style=\"font-size: 0.8em; font-weight: bold; line-height: 1; border-radius: 0.35em; vertical-align: middle; margin-left: 0.5rem\">Work</span>\n",
              "</mark>\n",
              " perfectly makes use of a narrator, \n",
              "<mark class=\"entity\" style=\"background: #ddd; padding: 0.45em 0.6em; margin: 0 0.25em; line-height: 1; border-radius: 0.35em;\">\n",
              "    Nick\n",
              "    <span style=\"font-size: 0.8em; font-weight: bold; line-height: 1; border-radius: 0.35em; vertical-align: middle; margin-left: 0.5rem\">Character</span>\n",
              "</mark>\n",
              ". Why is Gatsby so great? Because Nick tells us. If Gatsby told us, we would just think that he is a braggard, the least humble person in the world.<br><br>This book is wildly addictive, so intricate yet perfectly woven together, a brilliant literary masterpiece. I have to keep going back to reconnect with Jay Gatsby, a naïve but beautiful and charming hope, perfectly imperfect, a relentless dreamer.<br></div></span>"
            ]
          },
          "metadata": {}
        }
      ]
    },
    {
      "cell_type": "markdown",
      "source": [
        "# References\n",
        "\n",
        "https://spacy.io/api/large-language-models#ner\n",
        "\n",
        "https://www.geeksforgeeks.org/named-entity-recognition/\n",
        "\n",
        "https://spacy.io/usage/training#config\n",
        "\n",
        "https://spacy.io/api/large-language-models\n",
        "\n",
        "https://pypi.org/project/spacy-llm/0.2.1/\n",
        "\n",
        "https://docs.argilla.io/en/latest/tutorials/notebooks/labelling-tokenclassification-using-spacy-llm.html\n",
        "\n",
        "https://medium.com/mantisnlp/constructing-a-knowledge-base-with-spacy-and-spacy-llm-f65b50ea534d\n"
      ],
      "metadata": {
        "id": "HG6_CcMHE9Ep"
      }
    }
  ]
}